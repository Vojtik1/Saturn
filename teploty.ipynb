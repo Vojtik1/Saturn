{
 "cells": [
  {
   "cell_type": "markdown",
   "id": "fd7decc1",
   "metadata": {},
   "source": [
    "# Meteorologický projekt"
   ]
  },
  {
   "cell_type": "markdown",
   "id": "f9eedcb0",
   "metadata": {},
   "source": [
    "## knihovny\n",
    "Data jsou načtena do pandas DataFrame objektu pomocí funkce pd.read_excel(). Tato data jsou poté předána objektu TemperatureAnalytics, který je součástí knihovny tempan. Tento objekt se používá k analýze teplotních dat a provádění různých operací a vizualizací na těchto datech."
   ]
  },
  {
   "cell_type": "markdown",
   "id": "53cecdef",
   "metadata": {},
   "source": [
    "import pandas as pd\n",
    "from tempan import TemperatureAnalytics\n",
    "\n",
    "\n",
    "data_path = '.\\klementinum.xlsx'  # Upravte cestu k vašemu souboru\n",
    "data_sheet_name = 'data'\n",
    "temperature_data = pd.read_excel(data_path, sheet_name=data_sheet_name)"
   ]
  },
  {
   "cell_type": "markdown",
   "id": "10875db2",
   "metadata": {},
   "source": [
    "## Main\n",
    " Toto je hlavní funkce programu, ve které je obsažena hlavní logika aplikace. Tato funkce spouští uživatelské rozhraní a zpracovává volby uživatele."
   ]
  },
  {
   "cell_type": "code",
   "execution_count": 58,
   "id": "16da8662",
   "metadata": {},
   "outputs": [
    {
     "name": "stdout",
     "output_type": "stream",
     "text": [
      "1. Průměrná teplota v zadaném roce\n",
      "2. Maximální teplota v zadaném roce\n",
      "3. Minimální teplota v zadaném roce\n",
      "4. Průměrné roční teploty mezi zadanými lety\n",
      "5. Průměrné měsíční teploty v zadaném roce\n",
      "6. Rozložení teplot v roce\n",
      "7. Porovnávání teplot\n",
      "8. Vztah mezi průměrnou teplotou a srážkami v roce {year}\n",
      "9. Sezónní trendy průměrných teplot\n"
     ]
    }
   ],
   "source": [
    "        print(\"1. Průměrná teplota v zadaném roce\")\n",
    "        print(\"2. Maximální teplota v zadaném roce\")\n",
    "        print(\"3. Minimální teplota v zadaném roce\")\n",
    "        print(\"4. Průměrné roční teploty mezi zadanými lety\")\n",
    "        print(\"5. Průměrné měsíční teploty v zadaném roce\")\n",
    "        print(\"6. Rozložení teplot v roce\")\n",
    "        print(\"7. Porovnávání teplot\")\n",
    "        print(\"8. Vztah mezi průměrnou teplotou a srážkami v roce {year}\")\n",
    "        print(\"9. Sezónní trendy průměrných teplot\")"
   ]
  },
  {
   "cell_type": "markdown",
   "id": "dfd2457d",
   "metadata": {},
   "source": [
    "## Možnost 1\n",
    "Toto je podmínka, která kontroluje uživatelův vstup. Pokud uživatel vybere možnost 1, program vyzve uživatele, aby zadal rok, a poté zavolá metodu get_average_temperature(year) z objektu temperature_analytics, který obsahuje instanci třídy TemperatureAnalytics, a zobrazí průměrnou teplotu v zadaném roce."
   ]
  },
  {
   "cell_type": "code",
   "execution_count": 59,
   "id": "d5f114d6",
   "metadata": {},
   "outputs": [
    {
     "name": "stdout",
     "output_type": "stream",
     "text": [
      "Zadejte rok: 2000\n"
     ]
    },
    {
     "ename": "NameError",
     "evalue": "name 'temperature_analytics' is not defined",
     "output_type": "error",
     "traceback": [
      "\u001b[1;31m---------------------------------------------------------------------------\u001b[0m",
      "\u001b[1;31mNameError\u001b[0m                                 Traceback (most recent call last)",
      "Cell \u001b[1;32mIn[59], line 2\u001b[0m\n\u001b[0;32m      1\u001b[0m year \u001b[38;5;241m=\u001b[39m \u001b[38;5;28mint\u001b[39m(\u001b[38;5;28minput\u001b[39m(\u001b[38;5;124m\"\u001b[39m\u001b[38;5;124mZadejte rok: \u001b[39m\u001b[38;5;124m\"\u001b[39m))\n\u001b[1;32m----> 2\u001b[0m \u001b[38;5;28mprint\u001b[39m(\u001b[38;5;124mf\u001b[39m\u001b[38;5;124m\"\u001b[39m\u001b[38;5;124mPrůměrná teplota v roce \u001b[39m\u001b[38;5;132;01m{\u001b[39;00myear\u001b[38;5;132;01m}\u001b[39;00m\u001b[38;5;124m: \u001b[39m\u001b[38;5;132;01m{\u001b[39;00mtemperature_analytics\u001b[38;5;241m.\u001b[39mget_average_temperature(year)\u001b[38;5;132;01m}\u001b[39;00m\u001b[38;5;124m°C\u001b[39m\u001b[38;5;124m\"\u001b[39m)\n",
      "\u001b[1;31mNameError\u001b[0m: name 'temperature_analytics' is not defined"
     ]
    }
   ],
   "source": [
    "            year = int(input(\"Zadejte rok: \"))\n",
    "            print(f\"Průměrná teplota v roce {year}: {temperature_analytics.get_average_temperature(year)}°C\")"
   ]
  },
  {
   "cell_type": "markdown",
   "id": "5f458068",
   "metadata": {},
   "source": [
    "## Možnost 2\n",
    "Pokud uživatel vybere možnost 2, program postupuje podobně jako v předchozím případě, ale zavolá metodu get_max_temperature(year) a zobrazí maximální teplotu v zadaném roce."
   ]
  },
  {
   "cell_type": "code",
   "execution_count": null,
   "id": "25b40962",
   "metadata": {},
   "outputs": [],
   "source": [
    "            year = int(input(\"Zadejte rok: \"))\n",
    "            max_temp, date_of_max_temp = temperature_analytics.get_max_temperature(year)\n",
    "            print(f\"Maximální teplota v roce {year}: {max_temp}°C, datum: {date_of_max_temp['den']}.{date_of_max_temp['měsíc']}.{date_of_max_temp['rok']}\")"
   ]
  },
  {
   "cell_type": "markdown",
   "id": "7a61b312",
   "metadata": {},
   "source": [
    "## Možnost 3\n",
    "Pokud uživatel vybere možnost 3, program postupuje podobně jako v předchozích případech, ale zavolá metodu get_min_temperature(year) a zobrazí minimální teplotu v zadaném roce."
   ]
  },
  {
   "cell_type": "code",
   "execution_count": null,
   "id": "8d5a63c8",
   "metadata": {},
   "outputs": [],
   "source": [
    "            year = int(input(\"Zadejte rok: \"))\n",
    "            min_temp, date_of_min_temp = temperature_analytics.get_min_temperature(year)\n",
    "            print(f\"Minimální teplota v roce {year}: {min_temp}°C, datum: {date_of_min_temp['den']}.{date_of_min_temp['měsíc']}.{date_of_min_temp['rok']}\")"
   ]
  },
  {
   "cell_type": "markdown",
   "id": "b489d8ca",
   "metadata": {},
   "source": [
    "## Možnost 4\n",
    "Pokud uživatel vybere možnost 4, program postupuje podobně jako v předchozích případech, ale zavolá metodu plot_annual_temperature_averages(start_year, end_year) a zobrazí průměrné roční teploty mezi zadanými lety."
   ]
  },
  {
   "cell_type": "code",
   "execution_count": null,
   "id": "2647791d",
   "metadata": {},
   "outputs": [],
   "source": [
    "            start_year = int(input(\"Zadejte počáteční rok: \"))\n",
    "            end_year = int(input(\"Zadejte koncový rok: \"))\n",
    "            temperature_analytics.plot_annual_temperature_averages(start_year, end_year)"
   ]
  },
  {
   "cell_type": "markdown",
   "id": "4e185ccd",
   "metadata": {},
   "source": [
    "## Možnost 5\n",
    "Pokud uživatel vybere možnost 5, program postupuje podobně jako v předchozích případech, ale zavolá metodu plot_monthly_average_temperatures(year) a zobrazí průměrné měsíční teploty v zadaném roce."
   ]
  },
  {
   "cell_type": "code",
   "execution_count": null,
   "id": "8f0a9f5a",
   "metadata": {},
   "outputs": [],
   "source": [
    "            year = int(input(\"Zadejte rok: \"))\n",
    "            temperature_analytics.plot_monthly_average_temperatures(year)"
   ]
  },
  {
   "cell_type": "markdown",
   "id": "6ccacc66",
   "metadata": {},
   "source": [
    "## Možnost 6\n",
    "Pokud uživatel vybere možnost 6, program postupuje podobně jako v předchozích případech, ale zavolá metodu plot_temperature_distribution(year) a zobrazí rozložení teplot v zadaném roce."
   ]
  },
  {
   "cell_type": "code",
   "execution_count": null,
   "id": "4ecbf165",
   "metadata": {},
   "outputs": [],
   "source": [
    "            year = int(input(\"Zadejte rok: \"))\n",
    "            temperature_analytics.plot_temperature_distribution(year)"
   ]
  },
  {
   "cell_type": "markdown",
   "id": "4ce5391d",
   "metadata": {},
   "source": [
    "## Možnost 7\n",
    "Pokud uživatel vybere možnost 7, program postupuje podobně jako v předchozích případech, ale zavolá metodu compare_temperature_trends(start_year1, end_year1, start_year2, end_year2) a zobrazí porovnání trendů teplot mezi dvěma zadanými obdobími let."
   ]
  },
  {
   "cell_type": "code",
   "execution_count": null,
   "id": "1351d80d",
   "metadata": {},
   "outputs": [],
   "source": [
    "            start_year1 = int(input(\"Zadejte počáteční rok prvního období: \"))\n",
    "            end_year1 = int(input(\"Zadejte koncový rok prvního období: \"))\n",
    "            start_year2 = int(input(\"Zadejte počáteční rok druhého období: \"))\n",
    "            end_year2 = int(input(\"Zadejte koncový rok druhého období: \"))\n",
    "            temperature_analytics.compare_temperature_trends(start_year1, end_year1, start_year2, end_year2)"
   ]
  },
  {
   "cell_type": "markdown",
   "id": "7e83542c",
   "metadata": {},
   "source": [
    "## Možnost 8\n",
    "Pokud uživatel vybere možnost 8, program postupuje podobně jako v předchozích případech, ale zavolá metodu analyze_temperature_precipitation_relationship(year) a analyzuje vztah mezi průměrnou teplotou a srážkami v zadaném roce."
   ]
  },
  {
   "cell_type": "code",
   "execution_count": null,
   "id": "f9a9dd67",
   "metadata": {},
   "outputs": [],
   "source": [
    "            year = int(input(\"Zadejte rok: \"))\n",
    "            temperature_analytics.analyze_temperature_precipitation_relationship(year)"
   ]
  },
  {
   "cell_type": "markdown",
   "id": "333ca50d",
   "metadata": {},
   "source": [
    "## Možnost 9\n",
    "Pokud uživatel vybere možnost 9, program postupuje podobně jako v předchozích případech, ale zavolá metodu analyze_seasonal_temperature_trends(start_year, end_year) a analyzuje sezónní trendy průměrných teplot mezi zadanými lety."
   ]
  },
  {
   "cell_type": "code",
   "execution_count": null,
   "id": "5761c07e",
   "metadata": {},
   "outputs": [],
   "source": [
    "            start_year = int(input(\"Zadejte počáteční rok: \"))\n",
    "            end_year = int(input(\"Zadejte koncový rok: \"))\n",
    "            temperature_analytics.analyze_seasonal_temperature_trends(start_year, end_year)"
   ]
  },
  {
   "cell_type": "markdown",
   "id": "88e29031",
   "metadata": {},
   "source": [
    "## Možnost 10\n",
    "Tato možnost zavol metodu analyze_temperature_trend_regression(start_year, end_year) z objektu temperature_analytics, která by provedla analýzu trendu teplot mezi zadanými lety pomocí regresní analýzy."
   ]
  },
  {
   "cell_type": "code",
   "execution_count": null,
   "id": "1e05748b",
   "metadata": {},
   "outputs": [],
   "source": [
    "            start_year = int(input(\"Zadejte počáteční rok: \"))\n",
    "            end_year = int(input(\"Zadejte koncový rok: \"))\n",
    "            temperature_analytics.analyze_temperature_trend_regression(start_year, end_year)"
   ]
  },
  {
   "cell_type": "markdown",
   "id": "88844eba",
   "metadata": {},
   "source": [
    "## Neplatná volba\n",
    "Pokud je neplatné, tak dá nabídku zadat znovu."
   ]
  },
  {
   "cell_type": "code",
   "execution_count": null,
   "id": "e13fc805",
   "metadata": {},
   "outputs": [],
   "source": [
    " print(\"Neplatná volba. Zadejte číslo od 0 do 10.\")"
   ]
  },
  {
   "cell_type": "markdown",
   "id": "ddeacce9",
   "metadata": {},
   "source": [
    "## Vyvolání mainu\n",
    "Vyvolá kód."
   ]
  },
  {
   "cell_type": "markdown",
   "id": "5605206b",
   "metadata": {},
   "source": [
    "if __name__ == '__main__':\n",
    "    main()"
   ]
  },
  {
   "cell_type": "markdown",
   "id": "c19c3ddd",
   "metadata": {},
   "source": [
    "## Celý kód main"
   ]
  },
  {
   "cell_type": "code",
   "execution_count": null,
   "id": "81ff3e2d",
   "metadata": {},
   "outputs": [],
   "source": [
    "import matplotlib.pyplot as plt\n",
    "from scipy.stats import linregress\n",
    "\n",
    "class TemperatureAnalytics:\n",
    "    def __init__(self, data):\n",
    "        self.data = data\n",
    "\n",
    "    def get_average_temperature(self, year):\n",
    "        yearly_data = self.data[self.data['rok'] == year]\n",
    "        return yearly_data['T-AVG'].mean()\n",
    "\n",
    "    def get_max_temperature(self, year):\n",
    "        yearly_data = self.data[self.data['rok'] == year]\n",
    "        max_temp = yearly_data['TMA'].max()\n",
    "        date_of_max_temp = yearly_data[yearly_data['TMA'] == max_temp][['rok', 'měsíc', 'den']].iloc[0]\n",
    "        return max_temp, date_of_max_temp\n",
    "\n",
    "    def get_min_temperature(self, year):\n",
    "        yearly_data = self.data[self.data['rok'] == year]\n",
    "        min_temp = yearly_data['TMI'].min()\n",
    "        date_of_min_temp = yearly_data[yearly_data['TMI'] == min_temp][['rok', 'měsíc', 'den']].iloc[0]\n",
    "        return min_temp, date_of_min_temp\n",
    "\n",
    "    def get_monthly_averages(self, year):\n",
    "        yearly_data = self.data[self.data['rok'] == year]\n",
    "        return yearly_data.groupby('měsíc')['T-AVG'].mean()\n",
    "\n",
    "    def analyze_temperature_trends(self, start_year, end_year):\n",
    "        trend_data = self.data[(self.data['rok'] >= start_year) & (self.data['rok'] <= end_year)]\n",
    "        annual_average_temperatures = trend_data.groupby('rok')['T-AVG'].mean()\n",
    "        return annual_average_temperatures\n",
    "\n",
    "    def plot_annual_temperature_averages(self, start_year, end_year):\n",
    "        filtered_data = self.data[(self.data['rok'] >= start_year) & (self.data['rok'] <= end_year)]\n",
    "\n",
    "        annual_avg_temps = filtered_data.groupby('rok')['T-AVG'].mean()\n",
    "        plt.figure(figsize=(10, 6))\n",
    "        plt.plot(annual_avg_temps.index, annual_avg_temps.values, marker='o', linestyle='-', color='b')\n",
    "        plt.title(f'Průměrné roční teploty mezi lety {start_year} - {end_year}')\n",
    "        plt.xlabel('Rok')\n",
    "        plt.ylabel('Průměrná teplota (°C)')\n",
    "        plt.grid(True)\n",
    "        plt.show()\n",
    "\n",
    "    def plot_monthly_average_temperatures(self, year):\n",
    "        yearly_data = self.data[self.data['rok'] == year]\n",
    "        monthly_avg_temps = yearly_data.groupby('měsíc')['T-AVG'].mean()\n",
    "\n",
    "        plt.figure(figsize=(10, 6))\n",
    "        plt.plot(monthly_avg_temps.index, monthly_avg_temps.values, marker='o', linestyle='-', color='g')\n",
    "        plt.title(f'Průměrné měsíční teploty v roce {year}')\n",
    "        plt.xlabel('Měsíc')\n",
    "        plt.ylabel('Průměrná teplota (°C)')\n",
    "        plt.grid(True)\n",
    "        plt.xticks(range(1, 13))  # Nastavení měsíčních značek na x-ové ose\n",
    "        plt.show()\n",
    "\n",
    "    def plot_temperature_distribution(self, year):\n",
    "        yearly_data = self.data[self.data['rok'] == year]\n",
    "\n",
    "        plt.figure(figsize=(10, 6))\n",
    "        plt.hist(yearly_data['T-AVG'], bins=20, color='orange', edgecolor='black')\n",
    "        plt.title(f'Rozložení teplot v roce {year}')\n",
    "        plt.xlabel('Teplota (°C)')\n",
    "        plt.ylabel('Počet dnů')\n",
    "        plt.grid(True)\n",
    "        plt.show()\n",
    "\n",
    "    def compare_temperature_trends(self, start_year1, end_year1, start_year2, end_year2):\n",
    "        trend_data1 = self.data[(self.data['rok'] >= start_year1) & (self.data['rok'] <= end_year1)]\n",
    "        trend_data2 = self.data[(self.data['rok'] >= start_year2) & (self.data['rok'] <= end_year2)]\n",
    "\n",
    "        annual_avg_temps1 = trend_data1.groupby('rok')['T-AVG'].mean()\n",
    "        annual_avg_temps2 = trend_data2.groupby('rok')['T-AVG'].mean()\n",
    "\n",
    "        fig, (ax1, ax2) = plt.subplots(2, 1, figsize=(10, 12), sharex=True)\n",
    "\n",
    "        ax1.plot(annual_avg_temps1.index, annual_avg_temps1.values, marker='o', linestyle='-', color='b',\n",
    "                 label=f'Trend {start_year1}-{end_year1}')\n",
    "        ax1.set_ylabel('Průměrná teplota (°C)')\n",
    "        ax1.legend()\n",
    "        ax1.grid(True)\n",
    "\n",
    "        ax2.plot(annual_avg_temps2.index, annual_avg_temps2.values, marker='s', linestyle='-', color='r',\n",
    "                 label=f'Trend {start_year2}-{end_year2}')\n",
    "        ax2.set_xlabel('Rok')\n",
    "        ax2.set_ylabel('Průměrná teplota (°C)')\n",
    "        ax2.legend()\n",
    "        ax2.grid(True)\n",
    "\n",
    "        plt.title('Porovnání průměrných teplotních trendů')\n",
    "        plt.show()\n",
    "\n",
    "    def analyze_temperature_precipitation_relationship(self, year):\n",
    "        yearly_data = self.data[self.data['rok'] == year]\n",
    "\n",
    "        plt.figure(figsize=(10, 6))\n",
    "        plt.scatter(yearly_data['T-AVG'], yearly_data['SRA'], color='green')\n",
    "        plt.title(f'Vztah mezi průměrnou teplotou a srážkami v roce {year}')\n",
    "        plt.xlabel('Průměrná teplota (°C)')\n",
    "        plt.ylabel('Průměrné srážky (mm)')\n",
    "        plt.grid(True)\n",
    "        plt.show()\n",
    "\n",
    "    def analyze_seasonal_temperature_trends(self, start_year, end_year):\n",
    "        trend_data = self.data[(self.data['rok'] >= start_year) & (self.data['rok'] <= end_year)]\n",
    "        trend_data['season'] = (trend_data['měsíc'] % 12 + 3) // 3  # Vytvoření sezónních kategorií\n",
    "\n",
    "        seasonal_avg_temps = trend_data.groupby(['rok', 'season'])['T-AVG'].mean()\n",
    "        seasonal_avg_temps = seasonal_avg_temps.unstack()  # Převod na přehlednější formát pro graf\n",
    "\n",
    "        plt.figure(figsize=(12, 6))\n",
    "        seasonal_avg_temps.plot(marker='o', linestyle='-', markerfacecolor='w')  # Každá sezóna na samostatném sloupci\n",
    "        plt.title('Sezónní trendy průměrných teplot')\n",
    "        plt.xlabel('Rok')\n",
    "        plt.ylabel('Průměrná teplota (°C)')\n",
    "        plt.legend(['Jaro', 'Léto', 'Podzim', 'Zima'], loc='upper right')\n",
    "        plt.grid(True)\n",
    "        plt.show()\n",
    "\n",
    "    def analyze_temperature_trend_regression(self, start_year, end_year):\n",
    "        trend_data = self.data[(self.data['rok'] >= start_year) & (self.data['rok'] <= end_year)]\n",
    "\n",
    "        x_values = trend_data['rok'].values  # Použijeme sloupec s roky\n",
    "        y_values = trend_data['T-AVG'].values\n",
    "\n",
    "        slope, intercept, r_value, p_value, std_err = linregress(x_values, y_values)\n",
    "\n",
    "        plt.figure(figsize=(10, 6))\n",
    "        plt.plot(x_values, y_values, marker='o', linestyle='', color='b', label='Průměrné teploty')\n",
    "        plt.plot(x_values, slope * x_values + intercept, color='r', label='Lineární trend')\n",
    "        plt.title('Lineární trend průměrných teplot')\n",
    "        plt.xlabel('Rok')\n",
    "        plt.ylabel('Průměrná teplota (°C)')\n",
    "        plt.legend()\n",
    "        plt.grid(True)\n",
    "        plt.show()\n",
    "\n",
    "        print(f'Lineární trend: {slope:.4f} °C/rok')\n",
    "        print(f'Korelace (R-value): {r_value:.4f}')\n",
    "        print(f'P-hodnota: {p_value:.4f}')\n",
    "        print(f'Standardní chyba odhadu: {std_err:.4f}')"
   ]
  },
  {
   "cell_type": "markdown",
   "id": "87be845a",
   "metadata": {},
   "source": [
    "# Celý kód tempan"
   ]
  },
  {
   "cell_type": "code",
   "execution_count": null,
   "id": "e2d5e337",
   "metadata": {},
   "outputs": [],
   "source": [
    "import matplotlib.pyplot as plt\n",
    "from scipy.stats import linregress\n",
    "\n",
    "class TemperatureAnalytics:\n",
    "    def __init__(self, data):\n",
    "        self.data = data\n",
    "\n",
    "    def get_average_temperature(self, year):\n",
    "        yearly_data = self.data[self.data['rok'] == year]\n",
    "        return yearly_data['T-AVG'].mean()\n",
    "\n",
    "    def get_max_temperature(self, year):\n",
    "        yearly_data = self.data[self.data['rok'] == year]\n",
    "        max_temp = yearly_data['TMA'].max()\n",
    "        date_of_max_temp = yearly_data[yearly_data['TMA'] == max_temp][['rok', 'měsíc', 'den']].iloc[0]\n",
    "        return max_temp, date_of_max_temp\n",
    "\n",
    "    def get_min_temperature(self, year):\n",
    "        yearly_data = self.data[self.data['rok'] == year]\n",
    "        min_temp = yearly_data['TMI'].min()\n",
    "        date_of_min_temp = yearly_data[yearly_data['TMI'] == min_temp][['rok', 'měsíc', 'den']].iloc[0]\n",
    "        return min_temp, date_of_min_temp\n",
    "\n",
    "    def get_monthly_averages(self, year):\n",
    "        yearly_data = self.data[self.data['rok'] == year]\n",
    "        return yearly_data.groupby('měsíc')['T-AVG'].mean()\n",
    "\n",
    "    def analyze_temperature_trends(self, start_year, end_year):\n",
    "        trend_data = self.data[(self.data['rok'] >= start_year) & (self.data['rok'] <= end_year)]\n",
    "        annual_average_temperatures = trend_data.groupby('rok')['T-AVG'].mean()\n",
    "        return annual_average_temperatures\n",
    "\n",
    "    def plot_annual_temperature_averages(self, start_year, end_year):\n",
    "        filtered_data = self.data[(self.data['rok'] >= start_year) & (self.data['rok'] <= end_year)]\n",
    "\n",
    "        annual_avg_temps = filtered_data.groupby('rok')['T-AVG'].mean()\n",
    "        plt.figure(figsize=(10, 6))\n",
    "        plt.plot(annual_avg_temps.index, annual_avg_temps.values, marker='o', linestyle='-', color='b')\n",
    "        plt.title(f'Průměrné roční teploty mezi lety {start_year} - {end_year}')\n",
    "        plt.xlabel('Rok')\n",
    "        plt.ylabel('Průměrná teplota (°C)')\n",
    "        plt.grid(True)\n",
    "        plt.show()\n",
    "\n",
    "    def plot_monthly_average_temperatures(self, year):\n",
    "        yearly_data = self.data[self.data['rok'] == year]\n",
    "        monthly_avg_temps = yearly_data.groupby('měsíc')['T-AVG'].mean()\n",
    "\n",
    "        plt.figure(figsize=(10, 6))\n",
    "        plt.plot(monthly_avg_temps.index, monthly_avg_temps.values, marker='o', linestyle='-', color='g')\n",
    "        plt.title(f'Průměrné měsíční teploty v roce {year}')\n",
    "        plt.xlabel('Měsíc')\n",
    "        plt.ylabel('Průměrná teplota (°C)')\n",
    "        plt.grid(True)\n",
    "        plt.xticks(range(1, 13))  # Nastavení měsíčních značek na x-ové ose\n",
    "        plt.show()\n",
    "\n",
    "    def plot_temperature_distribution(self, year):\n",
    "        yearly_data = self.data[self.data['rok'] == year]\n",
    "\n",
    "        plt.figure(figsize=(10, 6))\n",
    "        plt.hist(yearly_data['T-AVG'], bins=20, color='orange', edgecolor='black')\n",
    "        plt.title(f'Rozložení teplot v roce {year}')\n",
    "        plt.xlabel('Teplota (°C)')\n",
    "        plt.ylabel('Počet dnů')\n",
    "        plt.grid(True)\n",
    "        plt.show()\n",
    "\n",
    "    def compare_temperature_trends(self, start_year1, end_year1, start_year2, end_year2):\n",
    "        trend_data1 = self.data[(self.data['rok'] >= start_year1) & (self.data['rok'] <= end_year1)]\n",
    "        trend_data2 = self.data[(self.data['rok'] >= start_year2) & (self.data['rok'] <= end_year2)]\n",
    "\n",
    "        annual_avg_temps1 = trend_data1.groupby('rok')['T-AVG'].mean()\n",
    "        annual_avg_temps2 = trend_data2.groupby('rok')['T-AVG'].mean()\n",
    "\n",
    "        fig, (ax1, ax2) = plt.subplots(2, 1, figsize=(10, 12), sharex=True)\n",
    "\n",
    "        ax1.plot(annual_avg_temps1.index, annual_avg_temps1.values, marker='o', linestyle='-', color='b',\n",
    "                 label=f'Trend {start_year1}-{end_year1}')\n",
    "        ax1.set_ylabel('Průměrná teplota (°C)')\n",
    "        ax1.legend()\n",
    "        ax1.grid(True)\n",
    "\n",
    "        ax2.plot(annual_avg_temps2.index, annual_avg_temps2.values, marker='s', linestyle='-', color='r',\n",
    "                 label=f'Trend {start_year2}-{end_year2}')\n",
    "        ax2.set_xlabel('Rok')\n",
    "        ax2.set_ylabel('Průměrná teplota (°C)')\n",
    "        ax2.legend()\n",
    "        ax2.grid(True)\n",
    "\n",
    "        plt.title('Porovnání průměrných teplotních trendů')\n",
    "        plt.show()\n",
    "\n",
    "    def analyze_temperature_precipitation_relationship(self, year):\n",
    "        yearly_data = self.data[self.data['rok'] == year]\n",
    "\n",
    "        plt.figure(figsize=(10, 6))\n",
    "        plt.scatter(yearly_data['T-AVG'], yearly_data['SRA'], color='green')\n",
    "        plt.title(f'Vztah mezi průměrnou teplotou a srážkami v roce {year}')\n",
    "        plt.xlabel('Průměrná teplota (°C)')\n",
    "        plt.ylabel('Průměrné srážky (mm)')\n",
    "        plt.grid(True)\n",
    "        plt.show()\n",
    "\n",
    "    def analyze_seasonal_temperature_trends(self, start_year, end_year):\n",
    "        trend_data = self.data[(self.data['rok'] >= start_year) & (self.data['rok'] <= end_year)]\n",
    "        trend_data['season'] = (trend_data['měsíc'] % 12 + 3) // 3  # Vytvoření sezónních kategorií\n",
    "\n",
    "        seasonal_avg_temps = trend_data.groupby(['rok', 'season'])['T-AVG'].mean()\n",
    "        seasonal_avg_temps = seasonal_avg_temps.unstack()  # Převod na přehlednější formát pro graf\n",
    "\n",
    "        plt.figure(figsize=(12, 6))\n",
    "        seasonal_avg_temps.plot(marker='o', linestyle='-', markerfacecolor='w')  # Každá sezóna na samostatném sloupci\n",
    "        plt.title('Sezónní trendy průměrných teplot')\n",
    "        plt.xlabel('Rok')\n",
    "        plt.ylabel('Průměrná teplota (°C)')\n",
    "        plt.legend(['Jaro', 'Léto', 'Podzim', 'Zima'], loc='upper right')\n",
    "        plt.grid(True)\n",
    "        plt.show()\n",
    "\n",
    "    def analyze_temperature_trend_regression(self, start_year, end_year):\n",
    "        trend_data = self.data[(self.data['rok'] >= start_year) & (self.data['rok'] <= end_year)]\n",
    "\n",
    "        x_values = trend_data['rok'].values  # Použijeme sloupec s roky\n",
    "        y_values = trend_data['T-AVG'].values\n",
    "\n",
    "        slope, intercept, r_value, p_value, std_err = linregress(x_values, y_values)\n",
    "\n",
    "        plt.figure(figsize=(10, 6))\n",
    "        plt.plot(x_values, y_values, marker='o', linestyle='', color='b', label='Průměrné teploty')\n",
    "        plt.plot(x_values, slope * x_values + intercept, color='r', label='Lineární trend')\n",
    "        plt.title('Lineární trend průměrných teplot')\n",
    "        plt.xlabel('Rok')\n",
    "        plt.ylabel('Průměrná teplota (°C)')\n",
    "        plt.legend()\n",
    "        plt.grid(True)\n",
    "        plt.show()\n",
    "\n",
    "        print(f'Lineární trend: {slope:.4f} °C/rok')\n",
    "        print(f'Korelace (R-value): {r_value:.4f}')\n",
    "        print(f'P-hodnota: {p_value:.4f}')\n",
    "        print(f'Standardní chyba odhadu: {std_err:.4f}')"
   ]
  },
  {
   "cell_type": "markdown",
   "id": "5f8fa1f6",
   "metadata": {},
   "source": [
    "# Grafy"
   ]
  }
 ],
 "metadata": {
  "kernelspec": {
   "display_name": "Python 3 (ipykernel)",
   "language": "python",
   "name": "python3"
  },
  "language_info": {
   "codemirror_mode": {
    "name": "ipython",
    "version": 3
   },
   "file_extension": ".py",
   "mimetype": "text/x-python",
   "name": "python",
   "nbconvert_exporter": "python",
   "pygments_lexer": "ipython3",
   "version": "3.11.5"
  }
 },
 "nbformat": 4,
 "nbformat_minor": 5
}
